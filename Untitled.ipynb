{
 "cells": [
  {
   "cell_type": "code",
   "execution_count": 3,
   "metadata": {},
   "outputs": [],
   "source": [
    "import twitter\n",
    "\n",
    "api = twitter.Api(consumer_key='',\n",
    "                 consumer_secret='',\n",
    "                 access_token_key='',\n",
    "                 access_token_secret=''\n",
    "                 )\n"
   ]
  },
  {
   "cell_type": "code",
   "execution_count": 7,
   "metadata": {},
   "outputs": [
    {
     "name": "stdout",
     "output_type": "stream",
     "text": [
      "<class 'list'>\n",
      "アイドルマスター シャイニーカラーズ公式\n",
      "<class 'twitter.models.User'>\n",
      "【お知らせ】\n",
      "下記の期間サーバメンテナンスを予定しています。\n",
      "●メンテナンス時間\n",
      "2018年4月30日 11:00　～　2018年4月30日 15:00\n",
      "お客様にはご迷惑をお掛いたしますがご協力をお願いいたします。\n",
      " #シャニマス #idolmaster\n",
      "#283プロ事前登録ガシャ でシリアルコードが届いていない方へメッセージを再送信しました。ご自身のアカウントからメッセージが届いていますのでご確認ください。メッセージが届かない場合は、お手数ですが下記よりお問合せください。… https://t.co/kEybLyBgx1\n",
      "【お詫び】\n",
      "先ほどのシナリオイベント「Light up the illumination」のツイートにおいて、一部誤りがありましたので、訂正して再度ツイートさせていただきます。\n",
      "※誤ったツイートは削除させていただきます。\n",
      "シナリオイベント「Light up the illumination」が始まりましたよ～！\n",
      "イベント限定のアイドルたちも新登場です！\n",
      "\n",
      "◆新登場アイドル\n",
      "SSRサポートアイドル 櫻木 真乃\n",
      "SRサポートアイドル 八宮 めぐる… https://t.co/FeSmkX4Iee\n",
      "「Light up the illuminationガシャ」開催中ですよ～♪\n",
      "SRプロデュースアイドル 風野 灯織さん、新登場です！\n",
      "#シャニマス #idolmaster https://t.co/sepmNBrtq3\n",
      "\n",
      "Z E R O\n",
      "<class 'twitter.models.User'>\n",
      "Model DL &gt;&gt;&gt; https://t.co/1NPXu1d3ZC https://t.co/uBNah83XoU\n",
      "【MMD】寄明月 / Send To The Bright Moon【TDA Deception Miku】: https://t.co/d3BMfct6FO ผ่าน @YouTube\n",
      "WIP WIP WIP~~~~~~~~~~~ https://t.co/koAnzvQaRu\n",
      "RT @ko_mozi_: 【MMDグラブル】サンダルフォンでテオ【自作モデル】 https://t.co/yeU67Nz8f7 #sm32946791　\n",
      "宣伝失礼します。サンダルフォンの動画投稿しました～！よかったら見てみてください(*´ω｀)（クレジットは動画にて） htt…\n",
      "Model test &gt;&gt;&gt; https://t.co/HnQXfAX4dV https://t.co/z5DYrzBIB1\n",
      "\n",
      "ローソン\n",
      "<class 'twitter.models.User'>\n",
      "「ミュージカル『刀剣乱舞』 ～結びの響、始まりの音～」のLoppi・HMV限定B2タペストリーが 5/6まで予約受付中です♪ #ローソン #刀ミュ   https://t.co/l0D2mWvXfT https://t.co/VBJzW6dPor\n",
      "RT @nanjolno: これからお世話になります(о´∀`о) https://t.co/EF3V50px1H\n",
      "5/7まで、からあげクン各種1個増量中♪行楽のお供にいかがでしょうか(^^) #ローソン #からあげクン #ごちろう https://t.co/7EusrJgqwf https://t.co/rFp5tqHDpa\n",
      "ローソンが午前1時をお知らせします♪今日の“ごちろう時報”はマチカフェフローズン コーヒー(^^)南條愛乃さんの声を聞いていると誘惑に負けちゃいそうです♪ #ローソン #ごちろう  https://t.co/KUu2yDAw9L https://t.co/ay5U7waud6\n",
      "@0black_berry0 抽選結果をお伝えします。チキンラーメンどんぶりの代わりに「からあげクン30円引きクーポン」を差し上げます！クーポンコードは「C01561056」ご利用は5/4まで♪使い方⇒… https://t.co/Ejdhe7Jryv\n",
      "\n"
     ]
    }
   ],
   "source": [
    "friends = api.GetFriends()\n",
    "print(type(friends))\n",
    "\n",
    "for i, friend in enumerate(friends):\n",
    "    if i > 5:\n",
    "        break\n",
    "    friends_statuse = api.GetUserTimeline(friend.id, count=5)\n",
    "    print(friend.name)\n",
    "    print(type(friend))\n",
    "    for f_s in friends_statuse:\n",
    "        print(f_s.text)\n",
    "    print()"
   ]
  },
  {
   "cell_type": "code",
   "execution_count": null,
   "metadata": {},
   "outputs": [],
   "source": []
  }
 ],
 "metadata": {
  "kernelspec": {
   "display_name": "Python 3",
   "language": "python",
   "name": "python3"
  },
  "language_info": {
   "codemirror_mode": {
    "name": "ipython",
    "version": 3
   },
   "file_extension": ".py",
   "mimetype": "text/x-python",
   "name": "python",
   "nbconvert_exporter": "python",
   "pygments_lexer": "ipython3",
   "version": "3.6.4"
  }
 },
 "nbformat": 4,
 "nbformat_minor": 2
}
